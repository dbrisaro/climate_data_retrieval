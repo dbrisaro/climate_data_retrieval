{
 "cells": [
  {
   "cell_type": "code",
   "execution_count": 1,
   "id": "699aa03b-7823-4b10-80dc-8308f347395d",
   "metadata": {},
   "outputs": [],
   "source": [
    "# example for downloading ERA5 data: 2m temperature \n",
    "\n",
    "from piscis import download_data\n"
   ]
  },
  {
   "cell_type": "code",
   "execution_count": 3,
   "id": "3aa03392-303d-47c0-adfb-8faf2116102a",
   "metadata": {},
   "outputs": [
    {
     "name": "stderr",
     "output_type": "stream",
     "text": [
      "2024-11-12 19:12:00,505 INFO [2024-09-28T00:00:00] **Welcome to the New Climate Data Store (CDS)!** This new system is in its early days of full operations and still undergoing enhancements and fine tuning. Some disruptions are to be expected. Your \n",
      "[feedback](https://jira.ecmwf.int/plugins/servlet/desk/portal/1/create/202) is key to improve the user experience on the new CDS for the benefit of everyone. Thank you.\n",
      "2024-11-12 19:12:00,509 INFO [2024-09-26T00:00:00] Watch our [Forum](https://forum.ecmwf.int/) for Announcements, news and other discussed topics.\n",
      "2024-11-12 19:12:00,511 INFO [2024-09-16T00:00:00] Remember that you need to have an ECMWF account to use the new CDS. **Your old CDS credentials will not work in new CDS!**\n",
      "2024-11-12 19:12:00,512 WARNING [2024-06-16T00:00:00] CDS API syntax is changed and some keys or parameter names may have also changed. To avoid requests failing, please use the \"Show API request code\" tool on the dataset Download Form to check you are using the correct syntax for your API request.\n"
     ]
    },
    {
     "name": "stdout",
     "output_type": "stream",
     "text": [
      "Downloading reanalysis-era5-single-levels with parameters {'product_type': 'reanalysis', 'format': 'netcdf', 'variable': ['2m_temperature'], 'year': '2020', 'month': '01', 'day': '01', 'time': '12:00'}\n"
     ]
    },
    {
     "name": "stderr",
     "output_type": "stream",
     "text": [
      "2024-11-12 19:12:01,009 WARNING [2024-10-10T00:00:00] The final validated ERA5 differs from ERA5T from July 2024 until further notice - please refer to our\n",
      "[Forum announcement](https://forum.ecmwf.int/t/final-validated-era5-product-to-differ-from-era5t-in-july-2024/6685)\n",
      "for details and watch it for further updates on this.\n",
      "2024-11-12 19:12:01,010 INFO Request ID is 117418fa-9085-4cb7-8487-76a77fe47679\n",
      "2024-11-12 19:12:02,918 INFO status has been updated to accepted\n",
      "2024-11-12 19:12:06,240 INFO status has been updated to running\n",
      "2024-11-12 19:12:12,092 INFO status has been updated to successful\n"
     ]
    },
    {
     "data": {
      "application/vnd.jupyter.widget-view+json": {
       "model_id": "",
       "version_major": 2,
       "version_minor": 0
      },
      "text/plain": [
       "21fd7b106b7156e1c3429f33813fcc91.nc:   0%|          | 0.00/1.46M [00:00<?, ?B/s]"
      ]
     },
     "metadata": {},
     "output_type": "display_data"
    },
    {
     "name": "stdout",
     "output_type": "stream",
     "text": [
      "Data downloaded and saved to data/raw/era5_2m_temperature.nc\n"
     ]
    },
    {
     "data": {
      "text/plain": [
       "'data/raw/era5_2m_temperature.nc'"
      ]
     },
     "execution_count": 3,
     "metadata": {},
     "output_type": "execute_result"
    }
   ],
   "source": [
    "## download\n",
    "\n",
    "# params\n",
    "dataset = \"reanalysis-era5-single-levels\"\n",
    "params = {\n",
    "    \"product_type\": \"reanalysis\",\n",
    "    \"format\": \"netcdf\",\n",
    "    \"variable\": [\"2m_temperature\"],\n",
    "    \"year\": \"2020\",\n",
    "    \"month\": \"01\",\n",
    "    \"day\": \"01\",\n",
    "    \"time\": \"12:00\",\n",
    "}\n",
    "\n",
    "#\n",
    "output_path = 'data/raw/era5_2m_temperature.nc'\n",
    "\n",
    "download_data(dataset, params, output_path)\n",
    "\n"
   ]
  },
  {
   "cell_type": "code",
   "execution_count": null,
   "id": "53907db6-e40d-4d7b-9939-5ecc50a454ca",
   "metadata": {},
   "outputs": [],
   "source": []
  }
 ],
 "metadata": {
  "kernelspec": {
   "display_name": "Python 3 (ipykernel)",
   "language": "python",
   "name": "python3"
  },
  "language_info": {
   "codemirror_mode": {
    "name": "ipython",
    "version": 3
   },
   "file_extension": ".py",
   "mimetype": "text/x-python",
   "name": "python",
   "nbconvert_exporter": "python",
   "pygments_lexer": "ipython3",
   "version": "3.12.6"
  }
 },
 "nbformat": 4,
 "nbformat_minor": 5
}
