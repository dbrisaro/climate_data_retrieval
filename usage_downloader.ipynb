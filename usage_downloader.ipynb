{
 "cells": [
  {
   "cell_type": "code",
   "execution_count": 2,
   "id": "699aa03b-7823-4b10-80dc-8308f347395d",
   "metadata": {},
   "outputs": [],
   "source": [
    "# example for downloading ERA5 data: 2m temperature \n",
    "\n",
    "from piscis import download_data\n"
   ]
  },
  {
   "cell_type": "code",
   "execution_count": 3,
   "id": "3aa03392-303d-47c0-adfb-8faf2116102a",
   "metadata": {},
   "outputs": [
    {
     "name": "stdout",
     "output_type": "stream",
     "text": [
      "Data already exists at data/raw/era5_2m_temperature.nc. Skipping download.\n"
     ]
    },
    {
     "data": {
      "text/plain": [
       "'data/raw/era5_2m_temperature.nc'"
      ]
     },
     "execution_count": 3,
     "metadata": {},
     "output_type": "execute_result"
    }
   ],
   "source": [
    "## download\n",
    "\n",
    "# params\n",
    "dataset = \"reanalysis-era5-single-levels\"\n",
    "params = {\n",
    "    \"product_type\": \"reanalysis\",\n",
    "    \"format\": \"netcdf\",\n",
    "    \"variable\": [\"2m_temperature\"],\n",
    "    \"year\": \"2020\",\n",
    "    \"month\": \"01\",\n",
    "    \"day\": \"01\",\n",
    "    \"time\": \"12:00\",\n",
    "}\n",
    "\n",
    "#\n",
    "output_path = 'data/raw/era5_2m_temperature.nc'\n",
    "\n",
    "download_data(dataset, params, output_path)\n",
    "\n"
   ]
  },
  {
   "cell_type": "code",
   "execution_count": null,
   "id": "53907db6-e40d-4d7b-9939-5ecc50a454ca",
   "metadata": {},
   "outputs": [],
   "source": []
  }
 ],
 "metadata": {
  "kernelspec": {
   "display_name": "Python 3 (ipykernel)",
   "language": "python",
   "name": "python3"
  },
  "language_info": {
   "codemirror_mode": {
    "name": "ipython",
    "version": 3
   },
   "file_extension": ".py",
   "mimetype": "text/x-python",
   "name": "python",
   "nbconvert_exporter": "python",
   "pygments_lexer": "ipython3",
   "version": "3.12.6"
  }
 },
 "nbformat": 4,
 "nbformat_minor": 5
}
