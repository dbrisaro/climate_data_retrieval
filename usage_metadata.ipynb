{
 "cells": [
  {
   "cell_type": "code",
   "execution_count": 5,
   "id": "576b7dd4-b3df-4935-8553-6db7b806abf2",
   "metadata": {},
   "outputs": [],
   "source": [
    "from piscis import fetch_datasets"
   ]
  },
  {
   "cell_type": "code",
   "execution_count": 7,
   "id": "4f7b53ad-7a46-484c-8cb7-3a7c3405b8f9",
   "metadata": {},
   "outputs": [
    {
     "name": "stdout",
     "output_type": "stream",
     "text": [
      "Loading datasets from cache.\n"
     ]
    }
   ],
   "source": [
    "datasets = fetch_datasets()\n"
   ]
  },
  {
   "cell_type": "code",
   "execution_count": 10,
   "id": "da314ffc-f19f-4f18-ac0e-fa79481c5a24",
   "metadata": {},
   "outputs": [
    {
     "data": {
      "text/plain": [
       "['reanalysis-era5-pressure-levels',\n",
       " 'reanalysis-era5-single-levels',\n",
       " 'derived-era5-land-daily-statistics',\n",
       " 'sis-agrometeorological-indicators',\n",
       " 'derived-utci-historical',\n",
       " 'satellite-sea-ice-thickness',\n",
       " 'satellite-sea-ice-edge-type',\n",
       " 'satellite-sea-ice-concentration',\n",
       " 'sis-agroproductivity-indicators',\n",
       " 'derived-era5-pressure-levels-daily-statistics',\n",
       " 'insitu-gridded-observations-nordic',\n",
       " 'reanalysis-era5-land',\n",
       " 'derived-era5-single-levels-daily-statistics',\n",
       " 'satellite-sea-surface-temperature',\n",
       " 'satellite-methane',\n",
       " 'satellite-fire-burned-area',\n",
       " 'satellite-ice-sheet-elevation-change',\n",
       " 'sis-energy-derived-projections',\n",
       " 'sis-hydrology-variables-derived-seasonal-forecast',\n",
       " 'sis-hydrology-variables-derived-projections',\n",
       " 'insitu-observations-woudc-ozone-total-column-and-profiles',\n",
       " 'satellite-sea-surface-temperature-ensemble-product',\n",
       " 'satellite-total-column-water-vapour-land-ocean',\n",
       " 'sis-biodiversity-cmip5-global',\n",
       " 'sis-european-risk-extreme-precipitation-indicators',\n",
       " 'sis-european-wind-storm-indicators',\n",
       " 'sis-european-wind-storm-synthetic-events',\n",
       " 'sis-extreme-indices-cmip6',\n",
       " 'insitu-observations-near-surface-temperature-us-climate-reference-network',\n",
       " 'sis-health-vector',\n",
       " 'sis-biodiversity-era5-regional',\n",
       " 'sis-heat-and-cold-spells',\n",
       " 'sis-hydrology-meteorology-derived-projections',\n",
       " 'satellite-precipitation-microwave',\n",
       " 'sis-hydrology-variables-derived-seasonal-reforecast',\n",
       " 'sis-marine-properties',\n",
       " 'insitu-gridded-observations-alpine-precipitation',\n",
       " 'insitu-observations-gnss',\n",
       " 'satellite-total-column-water-vapour-ocean',\n",
       " 'sis-biodiversity-cmip5-regional',\n",
       " 'sis-tourism-fire-danger-indicators',\n",
       " 'sis-tourism-snow-indicators',\n",
       " 'insitu-gridded-observations-global-and-regional',\n",
       " 'insitu-observations-gruan-reference-network',\n",
       " 'insitu-observations-surface-marine',\n",
       " 'insitu-gridded-observations-europe',\n",
       " 'sis-temperature-statistics',\n",
       " 'insitu-observations-igra-baseline-network',\n",
       " 'satellite-ice-sheet-mass-balance',\n",
       " 'satellite-lake-water-level',\n",
       " 'insitu-observations-surface-land',\n",
       " 'satellite-lake-water-temperature',\n",
       " 'projections-cmip6',\n",
       " 'sis-water-level-change-timeseries-cmip6',\n",
       " 'sis-agroclimatic-indicators',\n",
       " 'sis-biodiversity-era5-global',\n",
       " 'sis-ecv-cmip5-bias-corrected',\n",
       " 'sis-ocean-wave-indicators',\n",
       " 'sis-ocean-wave-timeseries',\n",
       " 'sis-water-level-change-indicators-cmip6',\n",
       " 'satellite-carbon-dioxide',\n",
       " 'insitu-comprehensive-upper-air-observation-network',\n",
       " 'satellite-aerosol-properties',\n",
       " 'satellite-soil-moisture',\n",
       " 'satellite-fire-radiative-power',\n",
       " 'seasonal-original-pressure-levels',\n",
       " 'seasonal-monthly-single-levels',\n",
       " 'satellite-precipitation',\n",
       " 'seasonal-original-single-levels',\n",
       " 'seasonal-postprocessed-single-levels',\n",
       " 'seasonal-monthly-pressure-levels',\n",
       " 'seasonal-postprocessed-pressure-levels',\n",
       " 'seasonal-monthly-ocean',\n",
       " 'insitu-glaciers-extent',\n",
       " 'ecv-for-climate-change',\n",
       " 'reanalysis-era5-single-levels-monthly-means',\n",
       " 'reanalysis-era5-land-monthly-means',\n",
       " 'reanalysis-era5-pressure-levels-monthly-means',\n",
       " 'satellite-earth-radiation-budget',\n",
       " 'satellite-ocean-colour',\n",
       " 'satellite-ozone-v1',\n",
       " 'satellite-lai-fapar',\n",
       " 'satellite-albedo',\n",
       " 'satellite-humidity-profiles',\n",
       " 'satellite-sea-level-global',\n",
       " 'sis-energy-pecd',\n",
       " 'derived-gridded-glacier-mass-change',\n",
       " 'sis-ecde-climate-indicators',\n",
       " 'reanalysis-carra-single-levels',\n",
       " 'reanalysis-carra-model-levels',\n",
       " 'reanalysis-carra-height-levels',\n",
       " 'reanalysis-carra-pressure-levels',\n",
       " 'satellite-cloud-properties',\n",
       " 'satellite-surface-radiation-budget',\n",
       " 'satellite-upper-troposphere-humidity',\n",
       " 'satellite-land-cover',\n",
       " 'satellite-greenland-ice-sheet-velocity',\n",
       " 'sis-energy-derived-reanalysis',\n",
       " 'reanalysis-oras5',\n",
       " 'multi-origin-c3s-atlas',\n",
       " 'reanalysis-era5-complete',\n",
       " 'projections-climate-atlas',\n",
       " 'reanalysis-cerra-land',\n",
       " 'reanalysis-cerra-model-levels',\n",
       " 'reanalysis-cerra-single-levels',\n",
       " 'reanalysis-cerra-pressure-levels',\n",
       " 'reanalysis-cerra-height-levels',\n",
       " 'derived-reanalysis-energy-moisture-budget',\n",
       " 'projections-cmip6-decadal-prototype',\n",
       " 'derived-near-surface-meteorological-variables',\n",
       " 'projections-cmip5-daily-single-levels',\n",
       " 'reanalysis-uerra-europe-complete',\n",
       " 'projections-cordex-domains-single-levels',\n",
       " 'reanalysis-uerra-europe-height-levels',\n",
       " 'reanalysis-uerra-europe-pressure-levels',\n",
       " 'reanalysis-uerra-europe-single-levels',\n",
       " 'reanalysis-uerra-europe-soil-levels',\n",
       " 'projections-cmip5-monthly-single-levels',\n",
       " 'projections-cmip5-monthly-pressure-levels',\n",
       " 'projections-cmip5-daily-pressure-levels',\n",
       " 'provider-c3s-data-rescue-without']"
      ]
     },
     "execution_count": 10,
     "metadata": {},
     "output_type": "execute_result"
    }
   ],
   "source": [
    "list(datasets.keys())"
   ]
  }
 ],
 "metadata": {
  "kernelspec": {
   "display_name": "Python 3 (ipykernel)",
   "language": "python",
   "name": "python3"
  },
  "language_info": {
   "codemirror_mode": {
    "name": "ipython",
    "version": 3
   },
   "file_extension": ".py",
   "mimetype": "text/x-python",
   "name": "python",
   "nbconvert_exporter": "python",
   "pygments_lexer": "ipython3",
   "version": "3.12.6"
  }
 },
 "nbformat": 4,
 "nbformat_minor": 5
}
