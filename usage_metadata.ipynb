{
 "cells": [
  {
   "cell_type": "code",
   "execution_count": 1,
   "id": "f78de9b9-d763-45ff-85ba-613b00c07ef8",
   "metadata": {},
   "outputs": [],
   "source": [
    "# example for showing ERA5 data: 2m temperature\n",
    "\n",
    "from piscis import nc_loader, show_metadata\n"
   ]
  },
  {
   "cell_type": "code",
   "execution_count": 2,
   "id": "7ed40afa-dd32-40ec-bf09-a8022dd89d6b",
   "metadata": {},
   "outputs": [],
   "source": [
    "file_path = './data/raw/era5_2m_temperature.nc'"
   ]
  },
  {
   "cell_type": "code",
   "execution_count": 3,
   "id": "1e561bd7-2bcf-48c2-ba3d-0fb035294038",
   "metadata": {},
   "outputs": [
    {
     "name": "stdout",
     "output_type": "stream",
     "text": [
      "Loaded NetCDF file at ./data/raw/era5_2m_temperature.nc\n"
     ]
    }
   ],
   "source": [
    "data = nc_loader(file_path)\n"
   ]
  },
  {
   "cell_type": "code",
   "execution_count": 4,
   "id": "f78c115a-93ab-4026-8de2-d98fe9ff1624",
   "metadata": {},
   "outputs": [
    {
     "name": "stdout",
     "output_type": "stream",
     "text": [
      "===== Global Attributes =====\n",
      "{'GRIB_centre': 'ecmf', 'GRIB_centreDescription': 'European Centre for Medium-Range Weather Forecasts', 'GRIB_subCentre': 0, 'Conventions': 'CF-1.7', 'institution': 'European Centre for Medium-Range Weather Forecasts', 'history': '2024-11-12T19:07 GRIB to CDM+CF via cfgrib-0.9.14.1/ecCodes-2.36.0 with {\"source\": \"data.grib\", \"filter_by_keys\": {\"stream\": [\"oper\"]}, \"encode_cf\": [\"parameter\", \"time\", \"geography\", \"vertical\"]}'}\n",
      "\n",
      "===== Variables =====\n",
      "\n",
      "Variable: number\n",
      "  Dimensions: ()\n",
      "  Shape: ()\n",
      "  Attributes:\n",
      "    long_name: ensemble member numerical id\n",
      "    units: 1\n",
      "    standard_name: realization\n",
      "\n",
      "Variable: valid_time\n",
      "  Dimensions: ('valid_time',)\n",
      "  Shape: (1,)\n",
      "  Attributes:\n",
      "    long_name: time\n",
      "    standard_name: time\n",
      "\n",
      "Variable: latitude\n",
      "  Dimensions: ('latitude',)\n",
      "  Shape: (721,)\n",
      "  Attributes:\n",
      "    units: degrees_north\n",
      "    standard_name: latitude\n",
      "    long_name: latitude\n",
      "    stored_direction: decreasing\n",
      "\n",
      "Variable: longitude\n",
      "  Dimensions: ('longitude',)\n",
      "  Shape: (1440,)\n",
      "  Attributes:\n",
      "    units: degrees_east\n",
      "    standard_name: longitude\n",
      "    long_name: longitude\n",
      "\n",
      "Variable: expver\n",
      "  Dimensions: ()\n",
      "  Shape: ()\n",
      "  Attributes:\n",
      "\n",
      "Variable: t2m\n",
      "  Dimensions: ('valid_time', 'latitude', 'longitude')\n",
      "  Shape: (1, 721, 1440)\n",
      "  Attributes:\n",
      "    GRIB_paramId: 167\n",
      "    GRIB_dataType: an\n",
      "    GRIB_numberOfPoints: 1038240\n",
      "    GRIB_typeOfLevel: surface\n",
      "    GRIB_stepUnits: 1\n",
      "    GRIB_stepType: instant\n",
      "    GRIB_gridType: regular_ll\n",
      "    GRIB_uvRelativeToGrid: 0\n",
      "    GRIB_NV: 0\n",
      "    GRIB_Nx: 1440\n",
      "    GRIB_Ny: 721\n",
      "    GRIB_cfName: unknown\n",
      "    GRIB_cfVarName: t2m\n",
      "    GRIB_gridDefinitionDescription: Latitude/Longitude Grid\n",
      "    GRIB_iDirectionIncrementInDegrees: 0.25\n",
      "    GRIB_iScansNegatively: 0\n",
      "    GRIB_jDirectionIncrementInDegrees: 0.25\n",
      "    GRIB_jPointsAreConsecutive: 0\n",
      "    GRIB_jScansPositively: 0\n",
      "    GRIB_latitudeOfFirstGridPointInDegrees: 90.0\n",
      "    GRIB_latitudeOfLastGridPointInDegrees: -90.0\n",
      "    GRIB_longitudeOfFirstGridPointInDegrees: 0.0\n",
      "    GRIB_longitudeOfLastGridPointInDegrees: 359.75\n",
      "    GRIB_missingValue: 3.4028234663852886e+38\n",
      "    GRIB_name: 2 metre temperature\n",
      "    GRIB_shortName: 2t\n",
      "    GRIB_totalNumber: 0\n",
      "    GRIB_units: K\n",
      "    long_name: 2 metre temperature\n",
      "    units: K\n",
      "    standard_name: unknown\n",
      "    GRIB_surface: 0.0\n"
     ]
    }
   ],
   "source": [
    "show_metadata(file_path)"
   ]
  },
  {
   "cell_type": "code",
   "execution_count": null,
   "id": "3fbda1a0-0b9b-4daf-b64b-f1c884c39680",
   "metadata": {},
   "outputs": [],
   "source": []
  }
 ],
 "metadata": {
  "kernelspec": {
   "display_name": "Python 3 (ipykernel)",
   "language": "python",
   "name": "python3"
  },
  "language_info": {
   "codemirror_mode": {
    "name": "ipython",
    "version": 3
   },
   "file_extension": ".py",
   "mimetype": "text/x-python",
   "name": "python",
   "nbconvert_exporter": "python",
   "pygments_lexer": "ipython3",
   "version": "3.12.6"
  }
 },
 "nbformat": 4,
 "nbformat_minor": 5
}
